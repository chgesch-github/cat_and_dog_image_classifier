{
  "cells": [
    {
      "cell_type": "code",
      "execution_count": 2,
      "metadata": {
        "id": "la_Oz6oLlub6"
      },
      "outputs": [
        {
          "name": "stderr",
          "output_type": "stream",
          "text": [
            "2023-01-09 09:14:24.512240: I tensorflow/core/platform/cpu_feature_guard.cc:193] This TensorFlow binary is optimized with oneAPI Deep Neural Network Library (oneDNN) to use the following CPU instructions in performance-critical operations:  SSE4.1 SSE4.2 AVX AVX2 FMA\n",
            "To enable them in other operations, rebuild TensorFlow with the appropriate compiler flags.\n"
          ]
        }
      ],
      "source": [
        "import tensorflow as tf\n",
        "\n",
        "from tensorflow.keras.models import Sequential\n",
        "from tensorflow.keras.layers import Dense, Conv2D, Flatten, Dropout, MaxPooling2D\n",
        "from tensorflow.keras.preprocessing.image import ImageDataGenerator\n",
        "\n",
        "import os\n",
        "import numpy as numpy\n",
        "import matplotlib.pyplot as plt\n"
      ]
    },
    {
      "cell_type": "code",
      "execution_count": 4,
      "metadata": {
        "id": "jaF8r6aOl48C"
      },
      "outputs": [],
      "source": [
        "# Get project files\n",
        "!wget https://cdn.freecodecamp.org/project-data/cats-and-dogs/cats_and_dogs.zip\n",
        "\n",
        "!unzip cats_and_dogs.zip\n",
        "\n",
        "PATH = 'cats_and_dogs'\n",
        "\n",
        "train_dir = os.path.join(PATH, 'train')\n",
        "validation_dir = os.path.join(PATH, 'validation')\n",
        "test_dir = os.path.join(PATH, 'test')\n",
        "\n",
        "# Get number of files in each directory. The train and validation directories\n",
        "# each have the subdirecories \"dogs\" and \"cats\".\n",
        "total_train = sum([len(files) for r, d, files in os.walk(train_dir)])\n",
        "total_val = sum([len(files) for r, d, files in os.walk(validation_dir)])\n",
        "total_test = len(os.listdir(test_dir))\n"
      ]
    },
    {
      "cell_type": "code",
      "execution_count": 5,
      "metadata": {
        "id": "EOJFeEfumns6"
      },
      "outputs": [
        {
          "name": "stdout",
          "output_type": "stream",
          "text": [
            "Found 2000 images belonging to 2 classes.\n",
            "Found 1000 images belonging to 2 classes.\n",
            "Found 50 images belonging to 1 classes.\n"
          ]
        }
      ],
      "source": [
        "# 3\n",
        "\n",
        "# Variables for pre-processing and training.\n",
        "batch_size = 128\n",
        "epochs = 15\n",
        "IMG_HEIGHT = 150\n",
        "IMG_WIDTH = 150\n",
        "\n",
        "train_image_generator = ImageDataGenerator(rescale=1. / 255)\n",
        "validation_image_generator = ImageDataGenerator(rescale=1. / 255)\n",
        "test_image_generator = ImageDataGenerator(rescale=1. / 255)\n",
        "\n",
        "train_data_gen = train_image_generator.flow_from_directory(  \n",
        "    train_dir,\n",
        "    target_size=(IMG_WIDTH, IMG_HEIGHT),\n",
        "    batch_size=batch_size,\n",
        "    class_mode='binary',\n",
        "    seed = 123,\n",
        "    shuffle = True)\n",
        "val_data_gen = validation_image_generator.flow_from_directory(  \n",
        "    validation_dir,\n",
        "    target_size=(IMG_WIDTH, IMG_HEIGHT),\n",
        "    batch_size=batch_size,\n",
        "    class_mode='binary',\n",
        "    seed = 123,\n",
        "    shuffle = True)\n",
        "test_data_gen = test_image_generator.flow_from_directory(  \n",
        "    test_dir,\n",
        "    target_size=(IMG_WIDTH, IMG_HEIGHT),\n",
        "    batch_size=batch_size,\n",
        "    class_mode=None,\n",
        "    seed = 123,\n",
        "    shuffle = False)\n"
      ]
    },
    {
      "cell_type": "code",
      "execution_count": null,
      "metadata": {
        "id": "TP0WA8j1mt7Q"
      },
      "outputs": [],
      "source": [
        "# 4\n",
        "def plotImages(images_arr, probabilities = False):\n",
        "    fig, axes = plt.subplots(len(images_arr), 1, figsize=(5,len(images_arr) * 3))\n",
        "    if probabilities is False:\n",
        "      for img, ax in zip( images_arr, axes):\n",
        "          ax.imshow(img)\n",
        "          ax.axis('off')\n",
        "    else:\n",
        "      for img, probability, ax in zip( images_arr, probabilities, axes):\n",
        "          ax.imshow(img)\n",
        "          ax.axis('off')\n",
        "          if probability > 0.5:\n",
        "              ax.set_title(\"%.2f\" % (probability*100) + \"% dog\")\n",
        "          else:\n",
        "              ax.set_title(\"%.2f\" % ((1-probability)*100) + \"% cat\")\n",
        "    plt.show()\n",
        "\n",
        "sample_training_images, _ = next(train_data_gen)\n",
        "plotImages(sample_training_images[:5])\n"
      ]
    },
    {
      "cell_type": "code",
      "execution_count": 7,
      "metadata": {
        "id": "-32RRLY_3voj"
      },
      "outputs": [],
      "source": [
        "# 5 - Add 4-6 random transformations \n",
        "train_image_generator = ImageDataGenerator(rescale=1. / 255,\n",
        "                                           horizontal_flip=True,\n",
        "                                           rotation_range = 5,\n",
        "                                           shear_range=0.2,\n",
        "                                           zoom_range=0.2,\n",
        "                                           width_shift_range=0.05,\n",
        "                                           height_shift_range=0.05,)\n"
      ]
    },
    {
      "cell_type": "code",
      "execution_count": null,
      "metadata": {
        "id": "pkwq2LFvqabS"
      },
      "outputs": [],
      "source": [
        "# 6\n",
        "train_data_gen = train_image_generator.flow_from_directory(batch_size=batch_size,\n",
        "                                                     directory=train_dir,\n",
        "                                                     target_size=(IMG_HEIGHT, IMG_WIDTH),\n",
        "                                                     class_mode='binary',\n",
        "                                                     seed = 123,\n",
        "                                                     shuffle = True)\n",
        "\n",
        "augmented_images = [train_data_gen[0][0][0] for i in range(5)]\n",
        "\n",
        "plotImages(augmented_images)\n"
      ]
    },
    {
      "cell_type": "code",
      "execution_count": 30,
      "metadata": {
        "id": "k8aZkwMam4UY"
      },
      "outputs": [
        {
          "name": "stdout",
          "output_type": "stream",
          "text": [
            "Model: \"sequential_4\"\n",
            "_________________________________________________________________\n",
            " Layer (type)                Output Shape              Param #   \n",
            "=================================================================\n",
            " conv2d_4 (Conv2D)           (None, 148, 148, 32)      896       \n",
            "                                                                 \n",
            " max_pooling2d_4 (MaxPooling  (None, 74, 74, 32)       0         \n",
            " 2D)                                                             \n",
            "                                                                 \n",
            " flatten_3 (Flatten)         (None, 175232)            0         \n",
            "                                                                 \n",
            " dense_8 (Dense)             (None, 16)                2803728   \n",
            "                                                                 \n",
            " dense_9 (Dense)             (None, 1)                 17        \n",
            "                                                                 \n",
            "=================================================================\n",
            "Total params: 2,804,641\n",
            "Trainable params: 2,804,641\n",
            "Non-trainable params: 0\n",
            "_________________________________________________________________\n"
          ]
        }
      ],
      "source": [
        "# 7\n",
        "# If softmax + cross entropy, the final layer has to have two outputs (0-dog, 1-cat)\n",
        "# With sigmoid + binary cross entropy, the final dense layer should have 1 node\n",
        "model = Sequential()\n",
        "\n",
        "model.add(Conv2D(32,kernel_size=(3,3),activation='relu',input_shape=(IMG_HEIGHT, IMG_WIDTH, 3)))\n",
        "model.add(MaxPooling2D(pool_size=(2, 2)))\n",
        "model.add(Flatten())\n",
        "model.add(Dense(16, activation='relu'))\n",
        "model.add(Dense(1, activation='sigmoid'))\n",
        "model.compile(loss=\"binary_crossentropy\", optimizer=\"adam\", metrics=['accuracy'])\n",
        "\n",
        "model.summary()\n"
      ]
    },
    {
      "cell_type": "code",
      "execution_count": 26,
      "metadata": {},
      "outputs": [],
      "source": [
        "# Mejorar entrenamiento:\n",
        "from keras.callbacks import EarlyStopping, ReduceLROnPlateau, ModelCheckpoint, Callback\n",
        "\n",
        "early_stop = EarlyStopping(monitor='val_loss', patience=8, verbose=1, min_delta=1e-4)  \n",
        "reduce_lr = ReduceLROnPlateau(monitor='val_loss', factor=0.1, patience=4, verbose=1, min_delta=1e-4)  \n",
        "callbacks_list = [early_stop, reduce_lr] \n"
      ]
    },
    {
      "cell_type": "code",
      "execution_count": 31,
      "metadata": {
        "id": "1niQDz5x6K7y"
      },
      "outputs": [
        {
          "name": "stdout",
          "output_type": "stream",
          "text": [
            "Epoch 1/15\n",
            "15/15 [==============================] - 78s 5s/step - loss: 1.8097 - accuracy: 0.5064 - val_loss: 0.6785 - val_accuracy: 0.5268 - lr: 0.0010\n",
            "Epoch 2/15\n",
            "15/15 [==============================] - 33s 2s/step - loss: 0.6849 - accuracy: 0.5518 - val_loss: 0.6914 - val_accuracy: 0.5089 - lr: 0.0010\n",
            "Epoch 3/15\n",
            "15/15 [==============================] - 37s 3s/step - loss: 0.6608 - accuracy: 0.5860 - val_loss: 0.6305 - val_accuracy: 0.6562 - lr: 0.0010\n",
            "Epoch 4/15\n",
            "15/15 [==============================] - 39s 3s/step - loss: 0.6301 - accuracy: 0.6526 - val_loss: 0.5998 - val_accuracy: 0.6652 - lr: 0.0010\n",
            "Epoch 5/15\n",
            "15/15 [==============================] - 37s 2s/step - loss: 0.6132 - accuracy: 0.6522 - val_loss: 0.6287 - val_accuracy: 0.6283 - lr: 0.0010\n",
            "Epoch 6/15\n",
            "15/15 [==============================] - 37s 3s/step - loss: 0.5950 - accuracy: 0.6859 - val_loss: 0.5864 - val_accuracy: 0.6853 - lr: 0.0010\n",
            "Epoch 7/15\n",
            "15/15 [==============================] - 37s 2s/step - loss: 0.5725 - accuracy: 0.7115 - val_loss: 0.5666 - val_accuracy: 0.6998 - lr: 0.0010\n",
            "Epoch 8/15\n",
            "15/15 [==============================] - 36s 2s/step - loss: 0.5645 - accuracy: 0.7158 - val_loss: 0.5782 - val_accuracy: 0.7009 - lr: 0.0010\n",
            "Epoch 9/15\n",
            "15/15 [==============================] - 38s 3s/step - loss: 0.5515 - accuracy: 0.7163 - val_loss: 0.6213 - val_accuracy: 0.6696 - lr: 0.0010\n",
            "Epoch 10/15\n",
            "15/15 [==============================] - 39s 3s/step - loss: 0.5436 - accuracy: 0.7297 - val_loss: 0.5677 - val_accuracy: 0.7243 - lr: 0.0010\n",
            "Epoch 11/15\n",
            "15/15 [==============================] - ETA: 0s - loss: 0.5412 - accuracy: 0.7196\n",
            "Epoch 11: ReduceLROnPlateau reducing learning rate to 0.00010000000474974513.\n",
            "15/15 [==============================] - 40s 3s/step - loss: 0.5412 - accuracy: 0.7196 - val_loss: 0.5701 - val_accuracy: 0.7042 - lr: 0.0010\n",
            "Epoch 12/15\n",
            "15/15 [==============================] - 38s 3s/step - loss: 0.5208 - accuracy: 0.7436 - val_loss: 0.5551 - val_accuracy: 0.7154 - lr: 1.0000e-04\n",
            "Epoch 13/15\n",
            "15/15 [==============================] - 38s 3s/step - loss: 0.5150 - accuracy: 0.7591 - val_loss: 0.5662 - val_accuracy: 0.7054 - lr: 1.0000e-04\n",
            "Epoch 14/15\n",
            "15/15 [==============================] - 40s 3s/step - loss: 0.5130 - accuracy: 0.7634 - val_loss: 0.5548 - val_accuracy: 0.7221 - lr: 1.0000e-04\n",
            "Epoch 15/15\n",
            "15/15 [==============================] - 42s 3s/step - loss: 0.5041 - accuracy: 0.7594 - val_loss: 0.5607 - val_accuracy: 0.7132 - lr: 1.0000e-04\n"
          ]
        }
      ],
      "source": [
        "# 8\n",
        "history = model.fit(train_data_gen,\n",
        "                    validation_data = val_data_gen,\n",
        "                    steps_per_epoch = train_data_gen.n//train_data_gen.batch_size,\n",
        "                    validation_steps = val_data_gen.n//val_data_gen.batch_size,\n",
        "                    epochs=epochs,\n",
        "                    callbacks=callbacks_list)\n"
      ]
    },
    {
      "cell_type": "code",
      "execution_count": 32,
      "metadata": {
        "id": "5xS51mB56OAC"
      },
      "outputs": [
        {
          "data": {
            "image/png": "[encoded data removed]",
            "text/plain": [
              "<Figure size 800x800 with 2 Axes>"
            ]
          },
          "metadata": {},
          "output_type": "display_data"
        }
      ],
      "source": [
        "# 9\n",
        "acc = history.history['accuracy']\n",
        "val_acc = history.history['val_accuracy']\n",
        "\n",
        "loss = history.history['loss']\n",
        "val_loss = history.history['val_loss']\n",
        "\n",
        "epochs_range = range(epochs)\n",
        "\n",
        "plt.figure(figsize=(8, 8))\n",
        "plt.subplot(1, 2, 1)\n",
        "plt.plot(epochs_range, acc, label='Training Accuracy')\n",
        "plt.plot(epochs_range, val_acc, label='Validation Accuracy')\n",
        "plt.legend(loc='lower right')\n",
        "plt.title('Training and Validation Accuracy')\n",
        "\n",
        "plt.subplot(1, 2, 2)\n",
        "plt.plot(epochs_range, loss, label='Training Loss')\n",
        "plt.plot(epochs_range, val_loss, label='Validation Loss')\n",
        "plt.legend(loc='upper right')\n",
        "plt.title('Training and Validation Loss')\n",
        "plt.show()\n"
      ]
    },
    {
      "cell_type": "code",
      "execution_count": null,
      "metadata": {
        "id": "WREqTM069_3j"
      },
      "outputs": [],
      "source": [
        "# 10\n",
        "# Compute probability that each test image is a dog or a cat.\n",
        "import numpy as np\n",
        "\n",
        "pred = model.predict(test_data_gen,\n",
        "                     steps= None, # o:  test_data_gen.n//test_data_gen.batch_size\n",
        "                     max_queue_size=10,   # o quitar este?\n",
        "                     workers=1, use_multiprocessing=False, verbose=1)\n",
        "\n",
        "#predicted_class_indices=np.argmax(pred,axis=-1)    # If last layer is > 1\n",
        "#predicted_class_indices=pred.round()                # If last layer == 0\n",
        "\n",
        "probabilities = []\n",
        "for element in pred:\n",
        "    probabilities.append(element)\n",
        "\n",
        "# Plot \n",
        "sample_test_images, _ = next(test_data_gen)\n",
        "plotImages(sample_test_images, probabilities=probabilities)\n"
      ]
    },
    {
      "cell_type": "code",
      "execution_count": 48,
      "metadata": {
        "id": "4IH86Ux_u7TZ"
      },
      "outputs": [
        {
          "name": "stdout",
          "output_type": "stream",
          "text": [
            "Your model correctly identified 72.0% of the images of cats and dogs.\n",
            "You passed the challenge!\n"
          ]
        }
      ],
      "source": [
        "# 11\n",
        "answers =  [1, 0, 0, 1, 0, 0, 0, 0, 1, 1, 0,\n",
        "            1, 0, 1, 0, 1, 1, 0, 1, 1, 0, 0,\n",
        "            1, 1, 1, 1, 1, 0, 0, 0, 0, 0, 1,\n",
        "            1, 0, 1, 1, 1, 1, 0, 1, 0, 1, 1, \n",
        "            0, 0, 0, 0, 0, 0]\n",
        "\n",
        "correct = 0\n",
        "\n",
        "for probability, answer in zip(probabilities, answers):\n",
        "  if probability.round() == answer:\n",
        "    correct +=1\n",
        "\n",
        "percentage_identified = (correct / len(answers)) * 100\n",
        "\n",
        "passed_challenge = percentage_identified >= 63\n",
        "\n",
        "print(f\"Your model correctly identified {round(percentage_identified, 2)}% of the images of cats and dogs.\")\n",
        "\n",
        "if passed_challenge:\n",
        "  print(\"You passed the challenge!\")\n",
        "else:\n",
        "  print(\"You haven't passed yet. Your model should identify at least 63% of the images. Keep trying. You will get it!\")\n"
      ]
    }
  ],
  "metadata": {
    "colab": {
      "name": "fcc_cat_dog.ipynb",
      "provenance": []
    },
    "kernelspec": {
      "display_name": "my_ml_env_39",
      "language": "python",
      "name": "python3"
    },
    "language_info": {
      "codemirror_mode": {
        "name": "ipython",
        "version": 3
      },
      "file_extension": ".py",
      "mimetype": "text/x-python",
      "name": "python",
      "nbconvert_exporter": "python",
      "pygments_lexer": "ipython3",
      "version": "3.9.15"
    },
    "vscode": {
      "interpreter": {
        "hash": "22b43b7cabb8e439942e8b3599732587a068fb79f44b704b7e8ee482b79e24ab"
      }
    }
  },
  "nbformat": 4,
  "nbformat_minor": 0
}
